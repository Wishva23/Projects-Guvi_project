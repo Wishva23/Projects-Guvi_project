{
  "nbformat": 4,
  "nbformat_minor": 0,
  "metadata": {
    "colab": {
      "provenance": [],
      "authorship_tag": "ABX9TyNesUtUtRcdZkEYg4gMMfJL",
      "include_colab_link": true
    },
    "kernelspec": {
      "name": "python3",
      "display_name": "Python 3"
    },
    "language_info": {
      "name": "python"
    }
  },
  "cells": [
    {
      "cell_type": "markdown",
      "metadata": {
        "id": "view-in-github",
        "colab_type": "text"
      },
      "source": [
        "<a href=\"https://colab.research.google.com/github/Wishva23/Projects-Guvi_project/blob/main/API_ASSIGNMENT.ipynb\" target=\"_parent\"><img src=\"https://colab.research.google.com/assets/colab-badge.svg\" alt=\"Open In Colab\"/></a>"
      ]
    },
    {
      "cell_type": "code",
      "source": [
        "! mkdir apiproject\n",
        "! cd myproject\n",
        "! python -m venv venv\n",
        "! . venv/bin/activate\n",
        "! pip install Flask"
      ],
      "metadata": {
        "id": "_9bc5LL6-Yjj"
      },
      "execution_count": null,
      "outputs": []
    },
    {
      "cell_type": "code",
      "execution_count": null,
      "metadata": {
        "id": "h7Xh4PMB-LcG"
      },
      "outputs": [],
      "source": [
        "from flask import Flask, request, jsonify\n",
        "\n",
        "app = Flask(__name__)\n",
        "\n",
        "# A list to store registered users\n",
        "users = []\n",
        "\n",
        "# A dictionary to store product data\n",
        "products = {}\n",
        "\n",
        "# Registration API\n",
        "@app.route('/register', methods=['POST'])\n",
        "def register():\n",
        "    data = request.get_json()\n",
        "    users.append(data)\n",
        "    return jsonify({'message': 'User registered successfully.'})\n",
        "\n",
        "# Login API\n",
        "@app.route('/login', methods=['POST'])\n",
        "def login():\n",
        "    data = request.get_json()\n",
        "    for user in users:\n",
        "        if user['username'] == data['username'] and user['password'] == data['password']:\n",
        "            return jsonify({'message': 'Login successful.'})\n",
        "    return jsonify({'message': 'Invalid username or password.'}), 401\n",
        "\n",
        "# Product Upload API\n",
        "@app.route('/upload', methods=['POST'])\n",
        "def upload():\n",
        "    file = request.files['file']\n",
        "    filename = secure_filename(file.filename)\n",
        "    file.save(os.path.join(app.config['UPLOAD_FOLDER'], filename))\n",
        "    with open(filename, mode='r') as csv_file:\n",
        "        csv_reader = csv.DictReader(csv_file)\n",
        "        for row in csv_reader:\n",
        "            products[row['barcode']] = {\n",
        "                'name': row['name'],\n",
        "                'brand': row['brand'],\n",
        "                'description': row['description'],\n",
        "                'price': row['price'],\n",
        "                'available': row['available']\n",
        "            }\n",
        "    return jsonify({'message': 'CSV file uploaded successfully.'})\n",
        "\n",
        "# Product Review API\n",
        "@app.route('/review', methods=['POST'])\n",
        "def review():\n",
        "    data = request.get_json()\n",
        "    barcode = data['barcode']\n",
        "    if barcode not in products:\n",
        "        return jsonify({'message': 'Product not found.'}), 404\n",
        "    products[barcode]['rating'] = data['rating']\n",
        "    return jsonify({'message': 'Product review added successfully.'})\n",
        "\n",
        "# Product view Pagination API\n",
        "@app.route('/products', methods=['GET'])\n",
        "def products():\n",
        "    sort_by = request.args.get('sort_by', 'barcode')\n",
        "    sort_order = request.args.get('sort_order', 'asc')\n",
        "    page = request.args.get('page', 1, type=int)\n",
        "    per_page = request.args.get('per_page', 10, type=int)\n",
        "    start_index = (page - 1) * per_page\n",
        "    end_index = start_index + per_page\n",
        "    sorted_products = sorted(products.values(), key=lambda p: p[sort_by], reverse=sort_order=='desc')\n",
        "    paginated_products = sorted_products[start_index:end_index]\n",
        "    return jsonify({'products': paginated_products})\n",
        "\n",
        "if __name__ == '__main__':\n",
        "    app.run(debug=True)\n"
      ]
    }
  ]
}